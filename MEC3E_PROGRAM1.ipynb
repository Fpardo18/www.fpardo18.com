{
 "cells": [
  {
   "cell_type": "markdown",
   "metadata": {},
   "source": [
    "# PROGRAM 1"
   ]
  },
  {
   "cell_type": "markdown",
   "metadata": {},
   "source": [
    "## FIND SAMPLE MEAN,MODE AND STANDART DEVIATION."
   ]
  },
  {
   "cell_type": "markdown",
   "metadata": {},
   "source": [
    "### MARTINEZ PARDO FERNANDO ISRAEL\n",
    "### HERNANDEZ MACIAS OSMAR GENARO"
   ]
  },
  {
   "cell_type": "code",
   "execution_count": 12,
   "metadata": {},
   "outputs": [
    {
     "name": "stdout",
     "output_type": "stream",
     "text": [
      "\n",
      " How many data would you like to introduce? 5\n",
      "\n",
      " Enter the data:  1\n",
      "490\n",
      "\n",
      " Enter the data:  2\n",
      "500\n",
      "\n",
      " Enter the data:  3\n",
      "510\n",
      "\n",
      " Enter the data:  4\n",
      "515\n",
      "\n",
      " Enter the data:  5\n",
      "520\n",
      "\n",
      " Simple mean:  507.0\n",
      "\n",
      " Mode: 490\n",
      "\n",
      " Standard deviation:  10.770329614269007\n"
     ]
    }
   ],
   "source": [
    "from collections import Counter\n",
    "import math\n",
    "\n",
    "a = int(input(\"\\n How many data would you like to introduce? \"))\n",
    "b = []\n",
    "k = 0\n",
    "p = a\n",
    "vv1 = a\n",
    "f = 1\n",
    "e = 0\n",
    "n = 0\n",
    "j = 1\n",
    "\n",
    "while a >= 1:\n",
    "    print(\"\\n Enter the data: \" ,f)\n",
    "    c = int(input())\n",
    "    b.append(c)\n",
    "    f = f + 1 \n",
    "    a = a - 1 \n",
    "    e = e + b[k] \n",
    "    k = k + 1 \n",
    "p1 = e / vv1 \n",
    "\n",
    "while p >= 1:\n",
    "    n = n + (b[j-1] - p1) ** 2\n",
    "    p = p - 1\n",
    "    j = j + 1\n",
    "m1 = n / vv1\n",
    "m11 = math.sqrt(m1)\n",
    "g1=Counter(b).most_common()[0][0]\n",
    "\n",
    "print(\"\\n Simple mean: \",p1)\n",
    "print(\"\\n Mode:\",g1)\n",
    "print(\"\\n Standard deviation: \",m11)"
   ]
  },
  {
   "cell_type": "code",
   "execution_count": null,
   "metadata": {},
   "outputs": [],
   "source": []
  }
 ],
 "metadata": {
  "kernelspec": {
   "display_name": "Python 3",
   "language": "python",
   "name": "python3"
  },
  "language_info": {
   "codemirror_mode": {
    "name": "ipython",
    "version": 3
   },
   "file_extension": ".py",
   "mimetype": "text/x-python",
   "name": "python",
   "nbconvert_exporter": "python",
   "pygments_lexer": "ipython3",
   "version": "3.7.4"
  }
 },
 "nbformat": 4,
 "nbformat_minor": 2
}
