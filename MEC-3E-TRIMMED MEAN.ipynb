{
 "cells": [
  {
   "cell_type": "markdown",
   "metadata": {},
   "source": [
    "# MEC-3E"
   ]
  },
  {
   "cell_type": "markdown",
   "metadata": {},
   "source": [
    "## Trimmed Mean"
   ]
  },
  {
   "cell_type": "markdown",
   "metadata": {},
   "source": [
    "### Martinez Pardo Fernando Israel\n",
    "### Hernandez Macias Osmar Genaro"
   ]
  },
  {
   "cell_type": "code",
   "execution_count": 3,
   "metadata": {
    "scrolled": false
   },
   "outputs": [
    {
     "name": "stdout",
     "output_type": "stream",
     "text": [
      "\n",
      " How much data will you use? 2\n",
      "\n",
      " Introduce the Datas: 5\n",
      "\n",
      " Introduce the Datas: 9\n",
      "\n",
      " Percentage to remove:10\n",
      "\n",
      "Treammed Mean is: 2.0\n"
     ]
    }
   ],
   "source": [
    "x=int(input(\"\\n How much data will you use? \"))\n",
    "a=x\n",
    "datas=[]\n",
    "outliers=0\n",
    "c=0\n",
    "l=0\n",
    "p=0\n",
    "V=0\n",
    "m=0\n",
    "n=0\n",
    "o=0\n",
    "xi=0\n",
    "xa=0\n",
    "r=0\n",
    "\n",
    "for i in range(0,x):\n",
    "    d = float(input(\"\\n Introduce the Datas: \"))\n",
    "    datas.append(d)\n",
    "    ds=[d]\n",
    "    \n",
    "if d >= 0:\n",
    "    x=[datas]\n",
    "    xi=sorted(datas)\n",
    "    xa=[xi]\n",
    "    \n",
    "V=float(input(\"\\n Percentage to remove:\")) \n",
    "\n",
    "if V <= 100:\n",
    "\n",
    "        p=(a*V)/100\n",
    "        r=p/2\n",
    "        i=outliers\n",
    "        m=(a-(r*outliers))\n",
    "        n+=m\n",
    "        o=n/m\n",
    "        print(\"\\nTreammed Mean is:\",(m))"
   ]
  },
  {
   "cell_type": "code",
   "execution_count": null,
   "metadata": {},
   "outputs": [],
   "source": []
  }
 ],
 "metadata": {
  "kernelspec": {
   "display_name": "Python 3",
   "language": "python",
   "name": "python3"
  },
  "language_info": {
   "codemirror_mode": {
    "name": "ipython",
    "version": 3
   },
   "file_extension": ".py",
   "mimetype": "text/x-python",
   "name": "python",
   "nbconvert_exporter": "python",
   "pygments_lexer": "ipython3",
   "version": "3.7.4"
  }
 },
 "nbformat": 4,
 "nbformat_minor": 2
}
