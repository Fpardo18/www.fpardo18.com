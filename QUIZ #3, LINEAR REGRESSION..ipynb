{
 "cells": [
  {
   "cell_type": "markdown",
   "metadata": {},
   "source": [
    "# QUIZ 3"
   ]
  },
  {
   "cell_type": "markdown",
   "metadata": {},
   "source": [
    "## MEC3E_TEAM3"
   ]
  },
  {
   "cell_type": "markdown",
   "metadata": {},
   "source": [
    "### LINEAR REGRESSION"
   ]
  },
  {
   "cell_type": "code",
   "execution_count": null,
   "metadata": {
    "scrolled": false
   },
   "outputs": [],
   "source": [
    "A = int(input(\"> Cuantos datos quieres introducir? \"))\n",
    "H = A\n",
    "I = 1\n",
    "C = 0\n",
    "D = 0\n",
    "F = 0\n",
    "G = 0\n",
    "\n",
    "while A >= 1:\n",
    "    print (\"\\n> Escribe valor de X: \" ,I)\n",
    "    B = int(input())\n",
    "    C = C + B\n",
    "    G = G + (B ** 2)\n",
    "    print (\"\\n> Escribe valor de Y: \" ,I)\n",
    "    K = int(input())\n",
    "    D = D + K\n",
    "    print (\"\\n> -----------------\")\n",
    "    F = F + (B * K)\n",
    "    I = I + 1\n",
    "    A = A - 1\n",
    "\n",
    "E = C ** 2\n",
    "b1 = (((H)*(F)) - ((C)*(D))) / (((H)*(G)) - ((C)**2))\n",
    "b1a = float(b1)\n",
    "b0 = ((D) - ((b1)*(C))) / (H)\n",
    "b0a = float(b0)\n",
    "\n",
    "print(\" \\n Y = \" ,b0,\"+\",b1,\"X\")\n"
   ]
  },
  {
   "cell_type": "code",
   "execution_count": null,
   "metadata": {},
   "outputs": [],
   "source": []
  }
 ],
 "metadata": {
  "kernelspec": {
   "display_name": "Python 3",
   "language": "python",
   "name": "python3"
  },
  "language_info": {
   "codemirror_mode": {
    "name": "ipython",
    "version": 3
   },
   "file_extension": ".py",
   "mimetype": "text/x-python",
   "name": "python",
   "nbconvert_exporter": "python",
   "pygments_lexer": "ipython3",
   "version": "3.7.4"
  }
 },
 "nbformat": 4,
 "nbformat_minor": 2
}
